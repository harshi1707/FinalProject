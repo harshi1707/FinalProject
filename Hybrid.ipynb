{
  "nbformat": 4,
  "nbformat_minor": 0,
  "metadata": {
    "colab": {
      "provenance": [],
      "authorship_tag": "ABX9TyOG4SZOH0B6bDd/KDwWDn0Y",
      "include_colab_link": true
    },
    "kernelspec": {
      "name": "python3",
      "display_name": "Python 3"
    },
    "language_info": {
      "name": "python"
    }
  },
  "cells": [
    {
      "cell_type": "markdown",
      "metadata": {
        "id": "view-in-github",
        "colab_type": "text"
      },
      "source": [
        "<a href=\"https://colab.research.google.com/github/harshi1707/FinalProject/blob/main/Hybrid.ipynb\" target=\"_parent\"><img src=\"https://colab.research.google.com/assets/colab-badge.svg\" alt=\"Open In Colab\"/></a>"
      ]
    },
    {
      "cell_type": "code",
      "execution_count": null,
      "metadata": {
        "id": "oUCkXAdbIWto"
      },
      "outputs": [],
      "source": [
        "# === CELL 0: Notes & quick config ===\n",
        "# Paste this notebook into Colab and run cells from top to bottom.\n",
        "# Configure below:\n",
        "USE_BIGQUERY = False      # True -> fetch Ethereum transactions from BigQuery (requires service account JSON)\n",
        "ELLIPTIC_FALLBACK = True  # True -> download Elliptic dataset if no BigQuery\n",
        "SAMPLE_STRATEGY = \"top_n\" # \"top_n\", \"neighborhood\", \"random\"\n",
        "N_TOP = 50000             # for top_n sampling\n",
        "NEIGHBORHOOD_SEED_WALLETS = []  # list of known wallets if using neighborhood strategy\n",
        "RANDOM_SEED = 42\n",
        "# Model/train tuning (demo values; change for real runs)\n",
        "GNN_EPOCHS = 8\n",
        "HYBRID_EPOCHS = 8\n",
        "TEMP_EPOCHS = 6\n",
        "BATCH_SIZE = 2048\n",
        "\n",
        "# If using BigQuery, upload service account json and set path:\n",
        "BQ_SERVICE_ACCOUNT_JSON = \"service_account.json\"  # upload to Colab via files.upload() if needed\n",
        "\n",
        "# For speed in demo: reduce sizes\n",
        "MAX_EDGES_FOR_DEMO = 200000  # adjust to limit memory"
      ]
    },
    {
      "cell_type": "code",
      "source": [
        "# === CELL 1: Basic installs (PyTorch, PyG, helpers)\n",
        "# This cell tries to install packages robustly in Colab. It may take a few minutes.\n",
        "# If wheel-based PyG install fails, re-run with correct torch/cuda versions per https://pytorch-geometric.readthedocs.io/\n",
        "import sys, subprocess, math, os\n",
        "\n",
        "# Upgrade pip\n",
        "subprocess.check_call([sys.executable, \"-m\", \"pip\", \"install\", \"--upgrade\", \"pip\", \"wheel\"], stdout=subprocess.DEVNULL)\n",
        "\n",
        "# Basic libs\n",
        "subprocess.check_call([sys.executable, \"-m\", \"pip\", \"install\", \"-q\", \"numpy\", \"pandas\", \"matplotlib\", \"scikit-learn\", \"networkx\", \"pyvis\", \"plotly\", \"tqdm\", \"google-cloud-bigquery\", \"kaggle\"], stdout=subprocess.DEVNULL)\n",
        "\n",
        "# Try to rely on existing torch in Colab; if missing, install CPU or default GPU torch\n",
        "try:\n",
        "    import torch\n",
        "    print(\"Found torch\", torch.__version__)\n",
        "except Exception:\n",
        "    print(\"Torch not found, installing cpu torch...\")\n",
        "    subprocess.check_call([sys.executable, \"-m\", \"pip\", \"install\", \"-q\", \"torch\", \"torchvision\", \"torchaudio\"], stdout=subprocess.DEVNULL)\n",
        "    import torch\n",
        "\n",
        "TORCH = torch.__version__.split('+')[0]\n",
        "CUDA = 'cpu' if torch.version.cuda is None else 'cu' + torch.version.cuda.replace('.', '')\n",
        "print(\"Torch:\", TORCH, \"CUDA tag:\", CUDA)\n",
        "\n",
        "# Attempt to install matching PyG wheels from data.pyg.org\n",
        "PYG_INDEX = f\"https://data.pyg.org/whl/torch-{TORCH}+{CUDA}.html\"\n",
        "print(\"Attempting to install PyG from:\", PYG_INDEX)\n",
        "try:\n",
        "    subprocess.check_call([sys.executable, \"-m\", \"pip\", \"install\", \"-q\", \"--find-links\", PYG_INDEX,\n",
        "                           \"torch_scatter\", \"torch_sparse\", \"torch_cluster\", \"torch_spline_conv\"], stdout=subprocess.DEVNULL)\n",
        "    subprocess.check_call([sys.executable, \"-m\", \"pip\", \"install\", \"-q\", \"torch_geometric\"], stdout=subprocess.DEVNULL)\n",
        "    print(\"Installed PyG dependencies & torch_geometric.\")\n",
        "except Exception as e:\n",
        "    print(\"PyG wheel install may have failed (often depending on CUDA). Trying fallback 'pip install torch_geometric' ...\")\n",
        "    subprocess.check_call([sys.executable, \"-m\", \"pip\", \"install\", \"-q\", \"torch_geometric\"], stdout=subprocess.DEVNULL)\n",
        "\n",
        "# Install torch_geometric_temporal optionally\n",
        "subprocess.check_call([sys.executable, \"-m\", \"pip\", \"install\", \"-q\", \"torch_geometric_temporal\"], stdout=subprocess.DEVNULL)\n",
        "# Install other ML libs\n",
        "subprocess.check_call([sys.executable, \"-m\", \"pip\", \"install\", \"-q\", \"pyyaml\", \"protobuf\"], stdout=subprocess.DEVNULL)\n",
        "\n",
        "print(\"Install step finished. Please restart runtime if imports fail.\")\n"
      ],
      "metadata": {
        "colab": {
          "base_uri": "https://localhost:8080/"
        },
        "id": "1TRlPjUJIhIu",
        "outputId": "d39a82e3-9b64-4010-cc20-0ac7259836b2"
      },
      "execution_count": null,
      "outputs": [
        {
          "output_type": "stream",
          "name": "stdout",
          "text": [
            "Found torch 2.8.0+cu126\n",
            "Torch: 2.8.0 CUDA tag: cu126\n",
            "Attempting to install PyG from: https://data.pyg.org/whl/torch-2.8.0+cu126.html\n",
            "Installed PyG dependencies & torch_geometric.\n",
            "Install step finished. Please restart runtime if imports fail.\n"
          ]
        }
      ]
    },
    {
      "cell_type": "code",
      "source": [
        "# === CELL 2: Imports and reproducibility ===\n",
        "import os, random, math, time, json\n",
        "import numpy as np, pandas as pd\n",
        "import matplotlib.pyplot as plt\n",
        "import networkx as nx\n",
        "from tqdm import tqdm\n",
        "import sklearn\n",
        "from sklearn.metrics import average_precision_score, roc_auc_score, precision_recall_curve\n",
        "from sklearn.model_selection import train_test_split\n",
        "import torch\n",
        "import torch.nn.functional as F\n",
        "from torch_geometric.data import Data\n",
        "from torch_geometric.datasets import EllipticBitcoinDataset\n",
        "from torch_geometric.utils import k_hop_subgraph, to_networkx\n",
        "from torch_geometric.nn import SAGEConv, GATConv\n",
        "from torch_geometric.data import TemporalData\n",
        "\n",
        "random.seed(RANDOM_SEED)\n",
        "np.random.seed(RANDOM_SEED)\n",
        "torch.manual_seed(RANDOM_SEED)\n",
        "\n",
        "device = torch.device(\"cuda\" if torch.cuda.is_available() else \"cpu\")\n",
        "print(\"Device:\", device)\n"
      ],
      "metadata": {
        "colab": {
          "base_uri": "https://localhost:8080/"
        },
        "id": "tWKBmraEIpVq",
        "outputId": "0e95abc6-9739-4e5c-89cf-eb3953c91e9f"
      },
      "execution_count": null,
      "outputs": [
        {
          "output_type": "stream",
          "name": "stdout",
          "text": [
            "Device: cpu\n"
          ]
        }
      ]
    },
    {
      "cell_type": "code",
      "source": [
        "# === CELL 3: Download / load datasets\n",
        "# - Elliptic dataset from Kaggle is used as a labeled graph example (GNN training).\n",
        "# - Optionally pull Ethereum transaction slice from BigQuery (requires credentials).\n",
        "# This cell builds 'sampled' DataFrame when USE_BIGQUERY True; otherwise loads Elliptic features.\n",
        "\n",
        "if USE_BIGQUERY:\n",
        "    print(\"Attempting to load Ethereum transactions from BigQuery. Make sure you've uploaded service account JSON to Colab and set GOOGLE_APPLICATION_CREDENTIALS.\")\n",
        "    os.environ[\"GOOGLE_APPLICATION_CREDENTIALS\"] = BQ_SERVICE_ACCOUNT_JSON\n",
        "    from google.cloud import bigquery\n",
        "    client = bigquery.Client()\n",
        "    query = f\"\"\"\n",
        "    SELECT LOWER(from_address) AS src, LOWER(to_address) AS dst, block_timestamp AS ts,\n",
        "           SAFE_DIVIDE(value, 1e18) AS eth_value\n",
        "    FROM `bigquery-public-data.crypto_ethereum.transactions`\n",
        "    WHERE block_timestamp BETWEEN TIMESTAMP('2024-01-01') AND TIMESTAMP('2024-12-31')\n",
        "      AND from_address IS NOT NULL\n",
        "      AND to_address IS NOT NULL\n",
        "    LIMIT {MAX_EDGES_FOR_DEMO}\n",
        "    \"\"\"\n",
        "    df = client.query(query).to_dataframe()\n",
        "    print(\"BigQuery sample shape:\", df.shape)\n",
        "    sampled = df.copy()\n",
        "else:\n",
        "    # Use Elliptic dataset as fallback demo (node classification)\n",
        "    print(\"Loading Elliptic dataset (PyG)...\")\n",
        "    ds_root = \"data/elliptic/pyg\"\n",
        "    dataset = EllipticBitcoinDataset(root=\"data/elliptic\")\n",
        "    d = dataset[0]\n",
        "    print(\"Elliptic data loaded: nodes\", d.num_nodes, \"edges\", d.num_edges)\n",
        "    # Load raw feature & edge CSVs (they are in dataset directory if you downloaded earlier)\n",
        "    BASE = \"data/elliptic/elliptic_bitcoin_dataset\"\n",
        "    feat_path = f\"{BASE}/elliptic_txs_features.csv\"\n",
        "    edge_path = f\"{BASE}/elliptic_txs_edgelist.csv\"\n",
        "    class_path = f\"{BASE}/elliptic_txs_classes.csv\"\n",
        "    if os.path.exists(feat_path) and os.path.exists(edge_path):\n",
        "        feat_df = pd.read_csv(feat_path, header=None)\n",
        "        feat_df = feat_df.rename(columns={0:\"txId\", 1:\"time_step\"})\n",
        "        edge_df = pd.read_csv(edge_path)\n",
        "        class_df = pd.read_csv(class_path)\n",
        "        print(\"Loaded Elliptic CSVs:\", feat_df.shape, edge_df.shape, class_df.shape)\n",
        "    else:\n",
        "        print(\"Elliptic CSVs not found locally. PyG loader still provided 'data' object.\")\n",
        "    # We'll also produce a 'sampled' DataFrame from edge_df if available, with synthetic eth_value\n",
        "    if 'edge_df' in globals():\n",
        "        # Construct a minimal sampled table: use txId integers as addresses (stringified)\n",
        "        sampled = edge_df.rename(columns={edge_df.columns[0]:'src', edge_df.columns[1]:'dst'})\n",
        "        sampled['ts'] = np.random.randint(1_700_000_000, 1_700_100_000, size=len(sampled))\n",
        "        sampled['eth_value'] = np.random.lognormal(mean=0.0, sigma=1.0, size=len(sampled))\n",
        "        # Map txId ints to strings to imitate addresses\n",
        "        sampled['src'] = sampled['src'].astype(str)\n",
        "        sampled['dst'] = sampled['dst'].astype(str)\n",
        "        sampled = sampled[['src','dst','ts','eth_value']]\n",
        "        print(\"Constructed sampled from elliptic edges:\", sampled.shape)\n",
        "    else:\n",
        "        # fallback synthetic\n",
        "        n_nodes = 2000\n",
        "        n_edges = 20000\n",
        "        rng = np.random.default_rng(RANDOM_SEED)\n",
        "        s = rng.choice(n_nodes, size=n_edges)\n",
        "        d_arr = rng.choice(n_nodes, size=n_edges)\n",
        "        t = np.arange(n_edges) + 1_700_000_000\n",
        "        vals = rng.lognormal(mean=0.0, sigma=1.0, size=n_edges)\n",
        "        sampled = pd.DataFrame({'src': [f\"0x{v:040d}\" for v in s],\n",
        "                                'dst': [f\"0x{v:040d}\" for v in d_arr],\n",
        "                                'ts': pd.to_datetime(t, unit='s'),\n",
        "                                'eth_value': vals})\n",
        "        print(\"Created synthetic sampled:\", sampled.shape)\n"
      ],
      "metadata": {
        "colab": {
          "base_uri": "https://localhost:8080/"
        },
        "id": "6B4mv8ehIuV-",
        "outputId": "f5ad0793-55bb-4b96-8b26-e5813ab6c172"
      },
      "execution_count": null,
      "outputs": [
        {
          "output_type": "stream",
          "name": "stdout",
          "text": [
            "Loading Elliptic dataset (PyG)...\n"
          ]
        },
        {
          "output_type": "stream",
          "name": "stderr",
          "text": [
            "Downloading https://data.pyg.org/datasets/elliptic/elliptic_txs_features.csv.zip\n",
            "Downloading https://data.pyg.org/datasets/elliptic/elliptic_txs_edgelist.csv.zip\n",
            "Downloading https://data.pyg.org/datasets/elliptic/elliptic_txs_classes.csv.zip\n",
            "Processing...\n"
          ]
        },
        {
          "output_type": "stream",
          "name": "stdout",
          "text": [
            "Elliptic data loaded: nodes 203769 edges 234355\n",
            "Elliptic CSVs not found locally. PyG loader still provided 'data' object.\n",
            "Created synthetic sampled: (20000, 4)\n"
          ]
        },
        {
          "output_type": "stream",
          "name": "stderr",
          "text": [
            "Done!\n"
          ]
        }
      ]
    },
    {
      "cell_type": "code",
      "source": [
        "# === CELL 4: Sampling strategies (top_n, neighborhood, random) & mapping to IDs ===\n",
        "# Outputs: sampled_small, addr2id, n_nodes\n",
        "print(\"Original sampled shape:\", sampled.shape)\n",
        "if SAMPLE_STRATEGY == \"top_n\":\n",
        "    N = N_TOP\n",
        "    all_addrs = pd.concat([sampled['src'], sampled['dst']])\n",
        "    top_addrs = all_addrs.value_counts().head(N).index\n",
        "    sampled_small = sampled[(sampled['src'].isin(top_addrs)) & (sampled['dst'].isin(top_addrs))].copy()\n",
        "    print(f\"[top_n] filtered edges: {sampled_small.shape}\")\n",
        "elif SAMPLE_STRATEGY == \"neighborhood\" and len(NEIGHBORHOOD_SEED_WALLETS)>0:\n",
        "    # Build adjacency dict\n",
        "    adj = {}\n",
        "    for _, row in sampled.iterrows():\n",
        "        adj.setdefault(row['src'], set()).add(row['dst'])\n",
        "        adj.setdefault(row['dst'], set()).add(row['src'])\n",
        "    radius = 2\n",
        "    seed = set(NEIGHBORHOOD_SEED_WALLETS)\n",
        "    frontier = set(seed)\n",
        "    selected = set(seed)\n",
        "    for _ in range(radius):\n",
        "        nf = set()\n",
        "        for w in frontier:\n",
        "            nf |= adj.get(w, set())\n",
        "        nf -= selected\n",
        "        selected |= nf\n",
        "        frontier = nf\n",
        "    sampled_small = sampled[(sampled['src'].isin(selected)) & (sampled['dst'].isin(selected))].copy()\n",
        "    print(f\"[neighborhood] filtered edges: {sampled_small.shape}\")\n",
        "elif SAMPLE_STRATEGY == \"random\":\n",
        "    n = min(len(sampled), MAX_EDGES_FOR_DEMO)\n",
        "    sampled_small = sampled.sample(n=n, random_state=RANDOM_SEED).copy()\n",
        "    print(f\"[random] sampled edges: {sampled_small.shape}\")\n",
        "else:\n",
        "    print(\"Strategy unknown or neighborhood seeds empty; defaulting to top_n small N=5000\")\n",
        "    sampled_small = sampled.sample(n=min(5000, len(sampled)), random_state=RANDOM_SEED).copy()\n",
        "\n",
        "# sanitize timestamps\n",
        "if 'ts' in sampled_small.columns and not np.issubdtype(sampled_small['ts'].dtype, np.datetime64):\n",
        "    try:\n",
        "        sampled_small['ts'] = pd.to_datetime(sampled_small['ts'])\n",
        "    except Exception:\n",
        "        sampled_small['ts'] = pd.to_datetime(sampled_small['ts'], unit='s', errors='coerce')\n",
        "# map addresses to integer node ids\n",
        "addrs = pd.Index(pd.unique(sampled_small[['src','dst']].values.ravel()))\n",
        "addr2id = {a:i for i,a in enumerate(addrs)}\n",
        "sampled_small['src_id'] = sampled_small['src'].map(addr2id)\n",
        "sampled_small['dst_id'] = sampled_small['dst'].map(addr2id)\n",
        "n_nodes = len(addrs)\n",
        "print(\"After sampling: nodes:\", n_nodes, \"edges:\", len(sampled_small))\n"
      ],
      "metadata": {
        "colab": {
          "base_uri": "https://localhost:8080/"
        },
        "id": "ROgIaj0NIy8t",
        "outputId": "6da6ae0f-ed5b-4d9b-bb60-5df8b58160cc"
      },
      "execution_count": null,
      "outputs": [
        {
          "output_type": "stream",
          "name": "stdout",
          "text": [
            "Original sampled shape: (20000, 4)\n",
            "[top_n] filtered edges: (20000, 4)\n",
            "After sampling: nodes: 2000 edges: 20000\n"
          ]
        }
      ]
    },
    {
      "cell_type": "code",
      "source": [
        "# === CELL 5: Build PyG Data (static graph) and TemporalData (temporal edge stream) ===\n",
        "import torch\n",
        "# Build static edge_index\n",
        "edge_index = torch.tensor([sampled_small['src_id'].values, sampled_small['dst_id'].values], dtype=torch.long)\n",
        "# Node features: simple engineered (deg_in, deg_out, total_value)\n",
        "n_nodes = int(edge_index.max().item()+1) if edge_index.numel()>0 else n_nodes\n",
        "deg_in = np.zeros(n_nodes, dtype=np.float32)\n",
        "deg_out = np.zeros(n_nodes, dtype=np.float32)\n",
        "val_sum = np.zeros(n_nodes, dtype=np.float32)\n",
        "for s,d,v in zip(sampled_small['src_id'].values, sampled_small['dst_id'].values, sampled_small['eth_value'].astype(float).values):\n",
        "    deg_out[int(s)] += 1.0\n",
        "    deg_in[int(d)] += 1.0\n",
        "    val_sum[int(s)] += float(v)\n",
        "    val_sum[int(d)] += float(v)\n",
        "x = torch.tensor(np.stack([deg_in, deg_out, val_sum], axis=1), dtype=torch.float)\n",
        "data_static = Data(x=x, edge_index=edge_index)\n",
        "print(\"Static Data:\", data_static)\n",
        "\n",
        "# TemporalData (ordered by time)\n",
        "sampled_small = sampled_small.sort_values('ts').reset_index(drop=True)\n",
        "src = torch.tensor(sampled_small['src_id'].values, dtype=torch.long)\n",
        "dst = torch.tensor(sampled_small['dst_id'].values, dtype=torch.long)\n",
        "# convert timestamps to unix seconds\n",
        "if np.issubdtype(sampled_small['ts'].dtype, np.datetime64):\n",
        "    ts_unix = sampled_small['ts'].astype('int64')//10**9\n",
        "else:\n",
        "    ts_unix = pd.to_datetime(sampled_small['ts']).astype('int64')//10**9\n",
        "t = torch.tensor(ts_unix.values, dtype=torch.long)\n",
        "msg = torch.tensor(np.log1p(sampled_small['eth_value'].astype(float).values).reshape(-1,1).astype(np.float32))\n",
        "td = TemporalData(src=src, dst=dst, t=t, msg=msg)\n",
        "print(\"TemporalData built:\", td)\n"
      ],
      "metadata": {
        "colab": {
          "base_uri": "https://localhost:8080/"
        },
        "id": "DV0TwqK-I4cJ",
        "outputId": "b33b7bc0-cd31-40a7-a904-81c6af2b8f0e"
      },
      "execution_count": null,
      "outputs": [
        {
          "output_type": "stream",
          "name": "stdout",
          "text": [
            "Static Data: Data(x=[2000, 3], edge_index=[2, 20000])\n",
            "TemporalData built: TemporalData(src=[20000], dst=[20000], t=[20000], msg=[20000, 1])\n"
          ]
        },
        {
          "output_type": "stream",
          "name": "stderr",
          "text": [
            "/tmp/ipython-input-2002506114.py:4: UserWarning: Creating a tensor from a list of numpy.ndarrays is extremely slow. Please consider converting the list to a single numpy.ndarray with numpy.array() before converting to a tensor. (Triggered internally at /pytorch/torch/csrc/utils/tensor_new.cpp:253.)\n",
            "  edge_index = torch.tensor([sampled_small['src_id'].values, sampled_small['dst_id'].values], dtype=torch.long)\n"
          ]
        }
      ]
    },
    {
      "cell_type": "code",
      "source": [
        "# === CELL 6: EDA & basic visualizations ===\n",
        "print(\"Nodes:\", data_static.num_nodes, \"Edges:\", data_static.num_edges)\n",
        "plt.figure(figsize=(6,3))\n",
        "plt.hist(sampled_small['eth_value'].clip(1e-6).apply(np.log), bins=50)\n",
        "plt.title(\"Log transaction value distribution\")\n",
        "plt.show()\n",
        "\n",
        "# degree histogram\n",
        "Gtmp = nx.from_pandas_edgelist(sampled_small[['src_id','dst_id']].rename(columns={'src_id':'u','dst_id':'v'}), source='u', target='v', create_using=nx.DiGraph)\n",
        "deg = np.array([d for _,d in Gtmp.degree()])\n",
        "plt.figure(figsize=(6,3))\n",
        "plt.hist(deg, bins=50)\n",
        "plt.title(\"Degree distribution\")\n",
        "plt.show()\n"
      ],
      "metadata": {
        "colab": {
          "base_uri": "https://localhost:8080/",
          "height": 628
        },
        "id": "MSk9LTHTJRCW",
        "outputId": "e96e0dd9-9261-420a-9860-4aa8078f15e8"
      },
      "execution_count": null,
      "outputs": [
        {
          "output_type": "stream",
          "name": "stdout",
          "text": [
            "Nodes: 2000 Edges: 20000\n"
          ]
        },
        {
          "output_type": "display_data",
          "data": {
            "text/plain": [
              "<Figure size 600x300 with 1 Axes>"
            ],
            "image/png": "[encoded data removed]"
          },
          "metadata": {}
        },
        {
          "output_type": "display_data",
          "data": {
            "text/plain": [
              "<Figure size 600x300 with 1 Axes>"
            ],
            "image/png": "[encoded data removed]"
          },
          "metadata": {}
        }
      ]
    },
    {
      "cell_type": "code",
      "source": [
        "# === CELL 7: Temporal sequence builder per node for LSTM/GRU/Transformer inputs ===\n",
        "# Build per-node sequences of recent interactions. Each element: [log_value, delta_ts_hours, direction]\n",
        "SEQ_LEN = 32\n",
        "def build_node_sequences(df, n_nodes, L=SEQ_LEN):\n",
        "    seqs = {i: [] for i in range(n_nodes)}\n",
        "    base_ts = pd.to_datetime(df['ts']).astype('int64')//10**9\n",
        "    for _, row in df.iterrows():\n",
        "        s = int(row['src_id']); d = int(row['dst_id'])\n",
        "        ts = int(pd.to_datetime(row['ts']).value // 10**9) if np.issubdtype(type(row['ts']), np.datetime64) or isinstance(row['ts'], pd.Timestamp) else int(row['ts'])\n",
        "        val = float(row['eth_value'])\n",
        "        entry_out = [math.log1p(val), ts, 1.0]  # outgoing\n",
        "        entry_in = [math.log1p(val), ts, 0.0]   # incoming\n",
        "        seqs[s].append(entry_out)\n",
        "        seqs[d].append(entry_in)\n",
        "    # convert to fixed-length arrays and normalize delta time\n",
        "    X = []\n",
        "    for nid in range(n_nodes):\n",
        "        hist = sorted(seqs[nid], key=lambda x: x[1])[-L:]\n",
        "        if len(hist)==0:\n",
        "            arr = np.zeros((L,3), dtype=np.float32)\n",
        "        else:\n",
        "            arr = np.array(hist, dtype=np.float64)\n",
        "            # compute delta hours from last event\n",
        "            if arr.shape[0] > 1:\n",
        "                last_ts = arr[:,1]\n",
        "                # represent timestamps as difference to last event in hours (so last is 0)\n",
        "                deltas = (last_ts.max() - last_ts)/3600.0\n",
        "                arr[:,1] = deltas\n",
        "            else:\n",
        "                arr[:,1] = 0.0\n",
        "            if arr.shape[0] < L:\n",
        "                pad = np.zeros((L-arr.shape[0], 3))\n",
        "                arr = np.vstack([pad, arr])\n",
        "        # normalize columns: val (log) and delta (hours) feature scale per-node is okay for demo (global scaling can be added)\n",
        "        X.append(arr.astype(np.float32))\n",
        "    X = np.stack(X, axis=0)  # [N, L, 3]\n",
        "    return torch.tensor(X, dtype=torch.float32)\n",
        "seq_tensor = build_node_sequences(sampled_small, n_nodes, L=SEQ_LEN).to(device)\n",
        "print(\"Sequence tensor shape:\", seq_tensor.shape)  # [N, L, F]\n"
      ],
      "metadata": {
        "colab": {
          "base_uri": "https://localhost:8080/"
        },
        "id": "I8rbg-h5JZGG",
        "outputId": "e5443814-8f72-4365-9b6d-bb2048587066"
      },
      "execution_count": null,
      "outputs": [
        {
          "output_type": "stream",
          "name": "stdout",
          "text": [
            "Sequence tensor shape: torch.Size([2000, 32, 3])\n"
          ]
        }
      ]
    },
    {
      "cell_type": "code",
      "source": [
        "# === CELL 8: Define models\n",
        "import torch.nn as nn\n",
        "\n",
        "# ----- Temporal encoders -----\n",
        "class LSTMEncoder(nn.Module):\n",
        "    def __init__(self, in_dim, hid=64, nlayers=1, bidir=False):\n",
        "        super().__init__()\n",
        "        self.lstm = nn.LSTM(in_dim, hid, nlayers, batch_first=True, bidirectional=bidir)\n",
        "        self.out_dim = hid * (2 if bidir else 1)\n",
        "    def forward(self, x):\n",
        "        out, (h, c) = self.lstm(x)\n",
        "        if self.lstm.bidirectional:\n",
        "            h_last = torch.cat([h[-2], h[-1]], dim=-1)\n",
        "        else:\n",
        "            h_last = h[-1]\n",
        "        return h_last\n",
        "\n",
        "class GRUEncoder(nn.Module):\n",
        "    def __init__(self, in_dim, hid=64, nlayers=1, bidir=False):\n",
        "        super().__init__()\n",
        "        self.gru = nn.GRU(in_dim, hid, nlayers, batch_first=True, bidirectional=bidir)\n",
        "        self.out_dim = hid * (2 if bidir else 1)\n",
        "    def forward(self, x):\n",
        "        out, h = self.gru(x)\n",
        "        if self.gru.bidirectional:\n",
        "            return torch.cat([h[-2], h[-1]], dim=-1)\n",
        "        return h[-1]\n",
        "\n",
        "class TransformerEncoderSmall(nn.Module):\n",
        "    def __init__(self, in_dim, model_dim=64, nhead=4, nlayers=2):\n",
        "        super().__init__()\n",
        "        self.proj = nn.Linear(in_dim, model_dim)\n",
        "        enc_layer = nn.TransformerEncoderLayer(d_model=model_dim, nhead=nhead, batch_first=True)\n",
        "        self.encoder = nn.TransformerEncoder(enc_layer, num_layers=nlayers)\n",
        "        self.cls = nn.Parameter(torch.randn(1,1,model_dim)*0.01)\n",
        "        self.out_dim = model_dim\n",
        "    def forward(self, x):\n",
        "        B = x.size(0)\n",
        "        x = self.proj(x)\n",
        "        cls = self.cls.expand(B, -1, -1)\n",
        "        x = torch.cat([cls, x], dim=1)\n",
        "        x = self.encoder(x)\n",
        "        return x[:,0]\n",
        "\n",
        "# ----- Graph models -----\n",
        "class SageNet(nn.Module):\n",
        "    def __init__(self, in_dim, hid=128, out=2):\n",
        "        super().__init__()\n",
        "        self.c1 = SAGEConv(in_dim, hid)\n",
        "        self.c2 = SAGEConv(hid, hid)\n",
        "        self.out = nn.Linear(hid, out)\n",
        "    def forward(self, x, ei):\n",
        "        x = F.relu(self.c1(x, ei)); x = F.dropout(x, 0.5, training=self.training)\n",
        "        x = F.relu(self.c2(x, ei))\n",
        "        return self.out(x)\n",
        "\n",
        "class GATNet(nn.Module):\n",
        "    def __init__(self, in_dim, hid=64, heads=4, out=2):\n",
        "        super().__init__()\n",
        "        self.g1 = GATConv(in_dim, hid, heads=heads, dropout=0.4)\n",
        "        self.g2 = GATConv(hid*heads, hid, heads=1, dropout=0.4)\n",
        "        self.out = nn.Linear(hid, out)\n",
        "    def forward(self, x, ei, return_attention=False):\n",
        "        if return_attention:\n",
        "            h1, attn1 = self.g1(x, ei, return_attention_weights=True)\n",
        "            h1 = F.elu(h1); h1 = F.dropout(h1, 0.5, training=self.training)\n",
        "            h2, attn2 = self.g2(h1, ei, return_attention_weights=True)\n",
        "            logits = self.out(h2)\n",
        "            return logits, (attn1, attn2)\n",
        "        h1 = F.elu(self.g1(x, ei))\n",
        "        h1 = F.dropout(h1, 0.5, training=self.training)\n",
        "        h2 = self.g2(h1, ei)\n",
        "        return self.out(h2)\n",
        "\n",
        "# ----- Autoencoder for anomaly detection (reconstruction of sequences) -----\n",
        "class LSTMAutoencoder(nn.Module):\n",
        "    def __init__(self, input_dim, hid=64, latent=32):\n",
        "        super().__init__()\n",
        "        self.encoder = nn.LSTM(input_dim, hid, batch_first=True)\n",
        "        self.enc_lin = nn.Linear(hid, latent)\n",
        "        self.dec_lin = nn.Linear(latent, hid)\n",
        "        self.decoder = nn.LSTM(hid, input_dim, batch_first=True)\n",
        "        self.hid = hid\n",
        "    def forward(self, x):\n",
        "        # x: [B, T, F]\n",
        "        out, (h,c) = self.encoder(x)\n",
        "        z = self.enc_lin(out[:,-1,:])\n",
        "        d = self.dec_lin(z).unsqueeze(1).repeat(1, x.size(1), 1)\n",
        "        recon, _ = self.decoder(d)\n",
        "        return recon\n",
        "\n",
        "# ----- FiLM fusion module -----\n",
        "class FiLMFusionModule(nn.Module):\n",
        "    def __init__(self, node_dim, temp_dim):\n",
        "        super().__init__()\n",
        "        self.gamma = nn.Linear(temp_dim, node_dim)\n",
        "        self.beta  = nn.Linear(temp_dim, node_dim)\n",
        "    def forward(self, node_x, temp_emb):\n",
        "        if node_x.dim()==2:\n",
        "            if temp_emb.dim()==1:\n",
        "                gamma = self.gamma(temp_emb).unsqueeze(0)\n",
        "                beta  = self.beta(temp_emb).unsqueeze(0)\n",
        "                return node_x * (1.0 + gamma) + beta\n",
        "        else:\n",
        "            B,N,F = node_x.shape\n",
        "            gamma = self.gamma(temp_emb).unsqueeze(1)\n",
        "            beta  = self.beta(temp_emb).unsqueeze(1)\n",
        "            return node_x * (1.0 + gamma) + beta\n"
      ],
      "metadata": {
        "id": "mCmlwd1NJeY3"
      },
      "execution_count": null,
      "outputs": []
    },
    {
      "cell_type": "code",
      "source": [
        "# === CELL 9: Train a temporal encoder (LSTM/GRU) as a demo — unsupervised / predictive task ===\n",
        "# For demo: reconstruction MSE using autoencoder, or next-step prediction using LSTM encoder-decoder.\n",
        "temp_in_dim = seq_tensor.shape[-1]\n",
        "lstm_enc = LSTMEncoder(temp_in_dim, hid=64).to(device)\n",
        "gru_enc = GRUEncoder(temp_in_dim, hid=64).to(device)\n",
        "transformer_enc = TransformerEncoderSmall(temp_in_dim, model_dim=64).to(device)\n",
        "ae = LSTMAutoencoder(input_dim=temp_in_dim, hid=64, latent=32).to(device)\n",
        "\n",
        "# Quick train autoencoder for reconstruction (demo few epochs)\n",
        "optimizer_ae = torch.optim.Adam(ae.parameters(), lr=1e-3)\n",
        "criterion_mse = nn.MSELoss()\n",
        "\n",
        "# For speed, sample subset of nodes for training\n",
        "subset_idx = np.random.choice(seq_tensor.shape[0], size=min(2048, seq_tensor.shape[0]), replace=False)\n",
        "Xtrain = seq_tensor[subset_idx].to(device)\n",
        "\n",
        "for epoch in range(1, TEMP_EPOCHS+1):\n",
        "    ae.train()\n",
        "    optimizer_ae.zero_grad()\n",
        "    recon = ae(Xtrain)\n",
        "    loss = criterion_mse(recon, Xtrain)\n",
        "    loss.backward(); optimizer_ae.step()\n",
        "    if epoch%2==0 or epoch==1:\n",
        "        print(f\"AE Epoch {epoch}/{TEMP_EPOCHS} recon_mse: {loss.item():.6f}\")\n"
      ],
      "metadata": {
        "colab": {
          "base_uri": "https://localhost:8080/"
        },
        "id": "eY9-83oZJgZP",
        "outputId": "80f1352d-a4af-4884-c72c-727097112526"
      },
      "execution_count": null,
      "outputs": [
        {
          "output_type": "stream",
          "name": "stdout",
          "text": [
            "AE Epoch 1/6 recon_mse: 2.146739\n",
            "AE Epoch 2/6 recon_mse: 2.066778\n",
            "AE Epoch 4/6 recon_mse: 1.939103\n",
            "AE Epoch 6/6 recon_mse: 1.872797\n"
          ]
        }
      ]
    },
    {
      "cell_type": "code",
      "source": [
        "# === CELL 10: Create hybrid model (temporal encoder per-node -> node features -> GraphSAGE -> classifier) ===\n",
        "class HybridModel(nn.Module):\n",
        "    def __init__(self, g_in, g_hid=128, g_out=64, s_in=3, s_hid=64, s_out=64, final_hid=64):\n",
        "        super().__init__()\n",
        "        self.gnn = SageNet(g_in, hid=g_hid, out=2)  # final layer for logits\n",
        "        self.seq_enc = LSTMEncoder(s_in, hid=s_hid)\n",
        "        self.seq_proj = nn.Linear(self.seq_enc.out_dim, s_out)\n",
        "        self.mlp = nn.Sequential(nn.Linear(g_in + s_out, final_hid), nn.ReLU(), nn.Linear(final_hid, 2))\n",
        "        # note: here we simply concat raw node features and seq embedding for final classification\n",
        "    def forward(self, x_node, edge_index, seqs):\n",
        "        # compute GNN node embeddings (we'll use intermediate hidden from first SAGE conv by reusing c1/c2)\n",
        "        # For simplicity we compute raw node features pass-through and concat with temporal emb\n",
        "        g_out = self.gnn(x_node, edge_index)  # logits shape\n",
        "        # seqs: [N, L, F]\n",
        "        seq_emb = self.seq_enc(seqs)         # [N, s_hid]\n",
        "        seq_feat = self.seq_proj(seq_emb)    # [N, s_out]\n",
        "        # combine: use raw node features x_node (or could use GNN hidden representation)\n",
        "        joint = torch.cat([x_node, seq_feat], dim=1)\n",
        "        return self.mlp(joint), g_out  # return hybrid logits and gnn logits\n",
        "\n",
        "# create instance\n",
        "node_feat_dim = data_static.x.shape[1]\n",
        "hybrid = HybridModel(g_in=node_feat_dim, s_in=seq_tensor.shape[-1]).to(device)\n",
        "print(\"Hybrid model created:\", hybrid)\n"
      ],
      "metadata": {
        "colab": {
          "base_uri": "https://localhost:8080/"
        },
        "id": "mSMYx88GJiKt",
        "outputId": "0c71fb1d-6c19-47ff-ec23-19e18e6fcd0c"
      },
      "execution_count": null,
      "outputs": [
        {
          "output_type": "stream",
          "name": "stdout",
          "text": [
            "Hybrid model created: HybridModel(\n",
            "  (gnn): SageNet(\n",
            "    (c1): SAGEConv(3, 128, aggr=mean)\n",
            "    (c2): SAGEConv(128, 128, aggr=mean)\n",
            "    (out): Linear(in_features=128, out_features=2, bias=True)\n",
            "  )\n",
            "  (seq_enc): LSTMEncoder(\n",
            "    (lstm): LSTM(3, 64, batch_first=True)\n",
            "  )\n",
            "  (seq_proj): Linear(in_features=64, out_features=64, bias=True)\n",
            "  (mlp): Sequential(\n",
            "    (0): Linear(in_features=67, out_features=64, bias=True)\n",
            "    (1): ReLU()\n",
            "    (2): Linear(in_features=64, out_features=2, bias=True)\n",
            "  )\n",
            ")\n"
          ]
        }
      ]
    },
    {
      "cell_type": "code",
      "source": [
        "# === CELL 11: Training loop for hybrid model on a synthetic label or Elliptic labels if available ===\n",
        "# If using Elliptic dataset (we have labels), use those labels mapped to the sampled nodes.\n",
        "# Otherwise create synthetic anomaly labels (e.g., high value transfers flagged).\n",
        "\n",
        "# Build labels for nodes:\n",
        "if 'class_df' in globals() and 'txids' in globals():\n",
        "    # Map class_df to our node ids if possible (Elliptic case)\n",
        "    # class_df has txId and class label (1 illicit, 2 licit)\n",
        "    # Map txId -> node index via mapping earlier (id2idx / idx2id could differ)\n",
        "    # For demo we'll create dummy labels: label 1 for nodes with high val_sum\n",
        "    lab = (val_sum > np.percentile(val_sum, 90)).astype(int)  # 1 = suspicious\n",
        "    y_nodes = torch.tensor(lab, dtype=torch.long, device=device)\n",
        "    print(\"Using heuristic labels (top 10% val_sum) as node labels for demo.\")\n",
        "else:\n",
        "    # synthetic labeling: nodes with any tx value > threshold -> suspicious\n",
        "    thr = np.percentile(sampled_small['eth_value'].astype(float), 97)\n",
        "    node_flag = np.zeros(n_nodes, dtype=int)\n",
        "    for s,v,d in zip(sampled_small['src_id'], sampled_small['eth_value'], sampled_small['dst_id']):\n",
        "        if float(v) > thr:\n",
        "            node_flag[int(s)] = 1\n",
        "            node_flag[int(d)] = 1\n",
        "    y_nodes = torch.tensor(node_flag, dtype=torch.long, device=device)\n",
        "    print(\"Created synthetic node labels from high-value transactions. Positive count:\", int(y_nodes.sum().item()))\n",
        "\n",
        "# train/test split on nodes\n",
        "idx = np.arange(n_nodes)\n",
        "train_idx, test_idx = train_test_split(idx, test_size=0.2, random_state=RANDOM_SEED, stratify=y_nodes.cpu().numpy() if n_nodes>1 else None)\n",
        "train_mask = torch.zeros(n_nodes, dtype=torch.bool, device=device); train_mask[torch.tensor(train_idx,device=device)] = True\n",
        "test_mask = torch.zeros(n_nodes, dtype=torch.bool, device=device); test_mask[torch.tensor(test_idx,device=device)] = True\n",
        "\n",
        "optimizer_h = torch.optim.Adam(hybrid.parameters(), lr=1e-3)\n",
        "criterion = nn.CrossEntropyLoss()\n",
        "\n",
        "for epoch in range(1, HYBRID_EPOCHS+1):\n",
        "    hybrid.train()\n",
        "    optimizer_h.zero_grad()\n",
        "    logits_h, logits_gnn = hybrid(data_static.x.to(device), data_static.edge_index.to(device), seq_tensor.to(device))\n",
        "    loss = criterion(logits_h[train_mask], y_nodes[train_mask])\n",
        "    loss.backward(); optimizer_h.step()\n",
        "    # eval\n",
        "    hybrid.eval()\n",
        "    with torch.no_grad():\n",
        "        out_eval, _ = hybrid(data_static.x.to(device), data_static.edge_index.to(device), seq_tensor.to(device))\n",
        "        probs = torch.softmax(out_eval, dim=1)[:,1].cpu().numpy()\n",
        "        if test_mask.sum()>0 and len(np.unique(y_nodes.cpu().numpy()[test_idx]))>1:\n",
        "            ap = average_precision_score(y_nodes.cpu().numpy()[test_idx], probs[test_idx])\n",
        "            roc = roc_auc_score(y_nodes.cpu().numpy()[test_idx], probs[test_idx])\n",
        "            if epoch%2==0 or epoch==1:\n",
        "                print(f\"Epoch {epoch}/{HYBRID_EPOCHS} loss {loss.item():.4f} AP {ap:.4f} ROC {roc:.4f}\")\n",
        "        else:\n",
        "            if epoch%2==0 or epoch==1:\n",
        "                print(f\"Epoch {epoch}/{HYBRID_EPOCHS} loss {loss.item():.4f} (Insufficient variety in test labels for AP/AUC)\")\n"
      ],
      "metadata": {
        "colab": {
          "base_uri": "https://localhost:8080/"
        },
        "id": "ggqkwoHxJjvD",
        "outputId": "7e32891c-90b3-469b-ba6b-d072db3b80e4"
      },
      "execution_count": null,
      "outputs": [
        {
          "output_type": "stream",
          "name": "stdout",
          "text": [
            "Created synthetic node labels from high-value transactions. Positive count: 890\n",
            "Epoch 1/8 loss 0.7059 AP 0.5464 ROC 0.5676\n",
            "Epoch 2/8 loss 0.6933 AP 0.6647 ROC 0.6883\n",
            "Epoch 4/8 loss 0.6748 AP 0.7630 ROC 0.7903\n",
            "Epoch 6/8 loss 0.6563 AP 0.8008 ROC 0.8251\n",
            "Epoch 8/8 loss 0.6385 AP 0.8261 ROC 0.8503\n"
          ]
        }
      ]
    },
    {
      "cell_type": "code",
      "source": [
        "# === CELL 12: Train GraphSAGE baseline (supervised) on same node labels for comparison ===\n",
        "sage = SageNet(in_dim=node_feat_dim).to(device)\n",
        "opt = torch.optim.AdamW(sage.parameters(), lr=1e-3, weight_decay=1e-5)\n",
        "loss_fn = nn.CrossEntropyLoss()\n",
        "\n",
        "for ep in range(1, GNN_EPOCHS+1):\n",
        "    sage.train()\n",
        "    opt.zero_grad()\n",
        "    logits = sage(data_static.x.to(device), data_static.edge_index.to(device))\n",
        "    loss = loss_fn(logits[train_mask], y_nodes[train_mask])\n",
        "    loss.backward(); opt.step()\n",
        "    sage.eval()\n",
        "    with torch.no_grad():\n",
        "        logits_eval = sage(data_static.x.to(device), data_static.edge_index.to(device))\n",
        "        probs = torch.softmax(logits_eval, dim=1)[:,1].cpu().numpy()\n",
        "        if test_mask.sum()>0 and len(np.unique(y_nodes.cpu().numpy()[test_idx]))>1:\n",
        "            ap = average_precision_score(y_nodes.cpu().numpy()[test_idx], probs[test_idx])\n",
        "            roc = roc_auc_score(y_nodes.cpu().numpy()[test_idx], probs[test_idx])\n",
        "            if ep%2==0 or ep==1:\n",
        "                print(f\"SAGE Epoch {ep}/{GNN_EPOCHS} loss {loss.item():.4f} AP {ap:.4f} ROC {roc:.4f}\")\n",
        "        else:\n",
        "            if ep%2==0 or ep==1:\n",
        "                print(f\"SAGE Epoch {ep}/{GNN_EPOCHS} loss {loss.item():.4f}\")\n"
      ],
      "metadata": {
        "colab": {
          "base_uri": "https://localhost:8080/"
        },
        "id": "o_k9lDjhJl4w",
        "outputId": "111b89c5-2959-40ee-9198-cb90e66d9f66"
      },
      "execution_count": null,
      "outputs": [
        {
          "output_type": "stream",
          "name": "stdout",
          "text": [
            "SAGE Epoch 1/8 loss 5.2817 AP 0.4452 ROC 0.4643\n",
            "SAGE Epoch 2/8 loss 2.0003 AP 0.7498 ROC 0.7933\n",
            "SAGE Epoch 4/8 loss 3.0902 AP 0.8324 ROC 0.8632\n",
            "SAGE Epoch 6/8 loss 1.3940 AP 0.7938 ROC 0.8101\n",
            "SAGE Epoch 8/8 loss 1.8149 AP 0.7870 ROC 0.8035\n"
          ]
        }
      ]
    },
    {
      "cell_type": "code",
      "source": [
        "# === CELL 13: Extract top suspicious nodes and export subgraph (visualization hook) ===\n",
        "# Choose the model to inspect: hybrid or sage\n",
        "use_probs = None\n",
        "hybrid.eval(); sage.eval()\n",
        "with torch.no_grad():\n",
        "    out_h, _ = hybrid(data_static.x.to(device), data_static.edge_index.to(device), seq_tensor.to(device))\n",
        "    probs_h = torch.softmax(out_h, dim=1)[:,1].cpu().numpy()\n",
        "    logits_sage = sage(data_static.x.to(device), data_static.edge_index.to(device))\n",
        "    probs_s = torch.softmax(logits_sage, dim=1)[:,1].cpu().numpy()\n",
        "\n",
        "df_rank_h = pd.DataFrame({\"node\": np.arange(n_nodes), \"prob_hybrid\":probs_h, \"prob_sage\":probs_s, \"label\": y_nodes.cpu().numpy()})\n",
        "df_rank_h = df_rank_h.sort_values(\"prob_hybrid\", ascending=False)\n",
        "print(\"Top suspicious (hybrid):\")\n",
        "display(df_rank_h.head(10))\n",
        "\n",
        "# Build 1-hop subgraph around top node\n",
        "top_node = int(df_rank_h.iloc[0]['node'])\n",
        "subset, edge_index_sub, mapping, edge_mask = k_hop_subgraph(top_node, 1, data_static.edge_index, relabel_nodes=False)\n",
        "sub_nodes = subset.cpu().numpy()\n",
        "print(\"Subgraph nodes:\", sub_nodes[:20])\n",
        "# Export to networkx\n",
        "sub_data = Data(x=data_static.x[sub_nodes], edge_index=edge_index_sub)\n",
        "Gsub = to_networkx(sub_data, to_undirected=True)\n",
        "plt.figure(figsize=(6,6))\n",
        "pos = nx.spring_layout(Gsub, seed=42)\n",
        "nx.draw(Gsub, pos, node_size=50, with_labels=True)\n",
        "plt.title(f\"1-hop subgraph around node {top_node}\")\n",
        "plt.show()\n"
      ],
      "metadata": {
        "colab": {
          "base_uri": "https://localhost:8080/",
          "height": 1000
        },
        "id": "U5yEkx2_JokG",
        "outputId": "c7dfdb40-5df7-496b-f18b-06687858858f"
      },
      "execution_count": null,
      "outputs": [
        {
          "output_type": "stream",
          "name": "stdout",
          "text": [
            "Top suspicious (hybrid):\n"
          ]
        },
        {
          "output_type": "display_data",
          "data": {
            "text/plain": [
              "      node  prob_hybrid  prob_sage  label\n",
              "1812  1812     0.845212   0.999867      1\n",
              "1121  1121     0.823431   0.999872      1\n",
              "1857  1857     0.810875   0.951089      1\n",
              "245    245     0.782664   0.891674      1\n",
              "711    711     0.777921   0.935798      1\n",
              "380    380     0.747604   0.898944      1\n",
              "1218  1218     0.731719   0.024040      1\n",
              "1938  1938     0.723713   0.539228      1\n",
              "886    886     0.721449   0.668429      1\n",
              "474    474     0.719876   0.008049      1"
            ],
            "text/html": [
              "\n",
              "  <div id=\"df-b7e0dbe5-aeac-4d3b-b617-a0360ea91d6c\" class=\"colab-df-container\">\n",
              "    <div>\n",
              "<style scoped>\n",
              "    .dataframe tbody tr th:only-of-type {\n",
              "        vertical-align: middle;\n",
              "    }\n",
              "\n",
              "    .dataframe tbody tr th {\n",
              "        vertical-align: top;\n",
              "    }\n",
              "\n",
              "    .dataframe thead th {\n",
              "        text-align: right;\n",
              "    }\n",
              "</style>\n",
              "<table border=\"1\" class=\"dataframe\">\n",
              "  <thead>\n",
              "    <tr style=\"text-align: right;\">\n",
              "      <th></th>\n",
              "      <th>node</th>\n",
              "      <th>prob_hybrid</th>\n",
              "      <th>prob_sage</th>\n",
              "      <th>label</th>\n",
              "    </tr>\n",
              "  </thead>\n",
              "  <tbody>\n",
              "    <tr>\n",
              "      <th>1812</th>\n",
              "      <td>1812</td>\n",
              "      <td>0.845212</td>\n",
              "      <td>0.999867</td>\n",
              "      <td>1</td>\n",
              "    </tr>\n",
              "    <tr>\n",
              "      <th>1121</th>\n",
              "      <td>1121</td>\n",
              "      <td>0.823431</td>\n",
              "      <td>0.999872</td>\n",
              "      <td>1</td>\n",
              "    </tr>\n",
              "    <tr>\n",
              "      <th>1857</th>\n",
              "      <td>1857</td>\n",
              "      <td>0.810875</td>\n",
              "      <td>0.951089</td>\n",
              "      <td>1</td>\n",
              "    </tr>\n",
              "    <tr>\n",
              "      <th>245</th>\n",
              "      <td>245</td>\n",
              "      <td>0.782664</td>\n",
              "      <td>0.891674</td>\n",
              "      <td>1</td>\n",
              "    </tr>\n",
              "    <tr>\n",
              "      <th>711</th>\n",
              "      <td>711</td>\n",
              "      <td>0.777921</td>\n",
              "      <td>0.935798</td>\n",
              "      <td>1</td>\n",
              "    </tr>\n",
              "    <tr>\n",
              "      <th>380</th>\n",
              "      <td>380</td>\n",
              "      <td>0.747604</td>\n",
              "      <td>0.898944</td>\n",
              "      <td>1</td>\n",
              "    </tr>\n",
              "    <tr>\n",
              "      <th>1218</th>\n",
              "      <td>1218</td>\n",
              "      <td>0.731719</td>\n",
              "      <td>0.024040</td>\n",
              "      <td>1</td>\n",
              "    </tr>\n",
              "    <tr>\n",
              "      <th>1938</th>\n",
              "      <td>1938</td>\n",
              "      <td>0.723713</td>\n",
              "      <td>0.539228</td>\n",
              "      <td>1</td>\n",
              "    </tr>\n",
              "    <tr>\n",
              "      <th>886</th>\n",
              "      <td>886</td>\n",
              "      <td>0.721449</td>\n",
              "      <td>0.668429</td>\n",
              "      <td>1</td>\n",
              "    </tr>\n",
              "    <tr>\n",
              "      <th>474</th>\n",
              "      <td>474</td>\n",
              "      <td>0.719876</td>\n",
              "      <td>0.008049</td>\n",
              "      <td>1</td>\n",
              "    </tr>\n",
              "  </tbody>\n",
              "</table>\n",
              "</div>\n",
              "    <div class=\"colab-df-buttons\">\n",
              "\n",
              "  <div class=\"colab-df-container\">\n",
              "    <button class=\"colab-df-convert\" onclick=\"convertToInteractive('df-b7e0dbe5-aeac-4d3b-b617-a0360ea91d6c')\"\n",
              "            title=\"Convert this dataframe to an interactive table.\"\n",
              "            style=\"display:none;\">\n",
              "\n",
              "  <svg xmlns=\"http://www.w3.org/2000/svg\" height=\"24px\" viewBox=\"0 -960 960 960\">\n",
              "    <path d=\"M120-120v-720h720v720H120Zm60-500h600v-160H180v160Zm220 220h160v-160H400v160Zm0 220h160v-160H400v160ZM180-400h160v-160H180v160Zm440 0h160v-160H620v160ZM180-180h160v-160H180v160Zm440 0h160v-160H620v160Z\"/>\n",
              "  </svg>\n",
              "    </button>\n",
              "\n",
              "  <style>\n",
              "    .colab-df-container {\n",
              "      display:flex;\n",
              "      gap: 12px;\n",
              "    }\n",
              "\n",
              "    .colab-df-convert {\n",
              "      background-color: #E8F0FE;\n",
              "      border: none;\n",
              "      border-radius: 50%;\n",
              "      cursor: pointer;\n",
              "      display: none;\n",
              "      fill: #1967D2;\n",
              "      height: 32px;\n",
              "      padding: 0 0 0 0;\n",
              "      width: 32px;\n",
              "    }\n",
              "\n",
              "    .colab-df-convert:hover {\n",
              "      background-color: #E2EBFA;\n",
              "      box-shadow: 0px 1px 2px rgba(60, 64, 67, 0.3), 0px 1px 3px 1px rgba(60, 64, 67, 0.15);\n",
              "      fill: #174EA6;\n",
              "    }\n",
              "\n",
              "    .colab-df-buttons div {\n",
              "      margin-bottom: 4px;\n",
              "    }\n",
              "\n",
              "    [theme=dark] .colab-df-convert {\n",
              "      background-color: #3B4455;\n",
              "      fill: #D2E3FC;\n",
              "    }\n",
              "\n",
              "    [theme=dark] .colab-df-convert:hover {\n",
              "      background-color: #434B5C;\n",
              "      box-shadow: 0px 1px 3px 1px rgba(0, 0, 0, 0.15);\n",
              "      filter: drop-shadow(0px 1px 2px rgba(0, 0, 0, 0.3));\n",
              "      fill: #FFFFFF;\n",
              "    }\n",
              "  </style>\n",
              "\n",
              "    <script>\n",
              "      const buttonEl =\n",
              "        document.querySelector('#df-b7e0dbe5-aeac-4d3b-b617-a0360ea91d6c button.colab-df-convert');\n",
              "      buttonEl.style.display =\n",
              "        google.colab.kernel.accessAllowed ? 'block' : 'none';\n",
              "\n",
              "      async function convertToInteractive(key) {\n",
              "        const element = document.querySelector('#df-b7e0dbe5-aeac-4d3b-b617-a0360ea91d6c');\n",
              "        const dataTable =\n",
              "          await google.colab.kernel.invokeFunction('convertToInteractive',\n",
              "                                                    [key], {});\n",
              "        if (!dataTable) return;\n",
              "\n",
              "        const docLinkHtml = 'Like what you see? Visit the ' +\n",
              "          '<a target=\"_blank\" href=https://colab.research.google.com/notebooks/data_table.ipynb>data table notebook</a>'\n",
              "          + ' to learn more about interactive tables.';\n",
              "        element.innerHTML = '';\n",
              "        dataTable['output_type'] = 'display_data';\n",
              "        await google.colab.output.renderOutput(dataTable, element);\n",
              "        const docLink = document.createElement('div');\n",
              "        docLink.innerHTML = docLinkHtml;\n",
              "        element.appendChild(docLink);\n",
              "      }\n",
              "    </script>\n",
              "  </div>\n",
              "\n",
              "\n",
              "    <div id=\"df-35c896b1-faff-4d2c-b803-9bd3ff64739c\">\n",
              "      <button class=\"colab-df-quickchart\" onclick=\"quickchart('df-35c896b1-faff-4d2c-b803-9bd3ff64739c')\"\n",
              "                title=\"Suggest charts\"\n",
              "                style=\"display:none;\">\n",
              "\n",
              "<svg xmlns=\"http://www.w3.org/2000/svg\" height=\"24px\"viewBox=\"0 0 24 24\"\n",
              "     width=\"24px\">\n",
              "    <g>\n",
              "        <path d=\"M19 3H5c-1.1 0-2 .9-2 2v14c0 1.1.9 2 2 2h14c1.1 0 2-.9 2-2V5c0-1.1-.9-2-2-2zM9 17H7v-7h2v7zm4 0h-2V7h2v10zm4 0h-2v-4h2v4z\"/>\n",
              "    </g>\n",
              "</svg>\n",
              "      </button>\n",
              "\n",
              "<style>\n",
              "  .colab-df-quickchart {\n",
              "      --bg-color: #E8F0FE;\n",
              "      --fill-color: #1967D2;\n",
              "      --hover-bg-color: #E2EBFA;\n",
              "      --hover-fill-color: #174EA6;\n",
              "      --disabled-fill-color: #AAA;\n",
              "      --disabled-bg-color: #DDD;\n",
              "  }\n",
              "\n",
              "  [theme=dark] .colab-df-quickchart {\n",
              "      --bg-color: #3B4455;\n",
              "      --fill-color: #D2E3FC;\n",
              "      --hover-bg-color: #434B5C;\n",
              "      --hover-fill-color: #FFFFFF;\n",
              "      --disabled-bg-color: #3B4455;\n",
              "      --disabled-fill-color: #666;\n",
              "  }\n",
              "\n",
              "  .colab-df-quickchart {\n",
              "    background-color: var(--bg-color);\n",
              "    border: none;\n",
              "    border-radius: 50%;\n",
              "    cursor: pointer;\n",
              "    display: none;\n",
              "    fill: var(--fill-color);\n",
              "    height: 32px;\n",
              "    padding: 0;\n",
              "    width: 32px;\n",
              "  }\n",
              "\n",
              "  .colab-df-quickchart:hover {\n",
              "    background-color: var(--hover-bg-color);\n",
              "    box-shadow: 0 1px 2px rgba(60, 64, 67, 0.3), 0 1px 3px 1px rgba(60, 64, 67, 0.15);\n",
              "    fill: var(--button-hover-fill-color);\n",
              "  }\n",
              "\n",
              "  .colab-df-quickchart-complete:disabled,\n",
              "  .colab-df-quickchart-complete:disabled:hover {\n",
              "    background-color: var(--disabled-bg-color);\n",
              "    fill: var(--disabled-fill-color);\n",
              "    box-shadow: none;\n",
              "  }\n",
              "\n",
              "  .colab-df-spinner {\n",
              "    border: 2px solid var(--fill-color);\n",
              "    border-color: transparent;\n",
              "    border-bottom-color: var(--fill-color);\n",
              "    animation:\n",
              "      spin 1s steps(1) infinite;\n",
              "  }\n",
              "\n",
              "  @keyframes spin {\n",
              "    0% {\n",
              "      border-color: transparent;\n",
              "      border-bottom-color: var(--fill-color);\n",
              "      border-left-color: var(--fill-color);\n",
              "    }\n",
              "    20% {\n",
              "      border-color: transparent;\n",
              "      border-left-color: var(--fill-color);\n",
              "      border-top-color: var(--fill-color);\n",
              "    }\n",
              "    30% {\n",
              "      border-color: transparent;\n",
              "      border-left-color: var(--fill-color);\n",
              "      border-top-color: var(--fill-color);\n",
              "      border-right-color: var(--fill-color);\n",
              "    }\n",
              "    40% {\n",
              "      border-color: transparent;\n",
              "      border-right-color: var(--fill-color);\n",
              "      border-top-color: var(--fill-color);\n",
              "    }\n",
              "    60% {\n",
              "      border-color: transparent;\n",
              "      border-right-color: var(--fill-color);\n",
              "    }\n",
              "    80% {\n",
              "      border-color: transparent;\n",
              "      border-right-color: var(--fill-color);\n",
              "      border-bottom-color: var(--fill-color);\n",
              "    }\n",
              "    90% {\n",
              "      border-color: transparent;\n",
              "      border-bottom-color: var(--fill-color);\n",
              "    }\n",
              "  }\n",
              "</style>\n",
              "\n",
              "      <script>\n",
              "        async function quickchart(key) {\n",
              "          const quickchartButtonEl =\n",
              "            document.querySelector('#' + key + ' button');\n",
              "          quickchartButtonEl.disabled = true;  // To prevent multiple clicks.\n",
              "          quickchartButtonEl.classList.add('colab-df-spinner');\n",
              "          try {\n",
              "            const charts = await google.colab.kernel.invokeFunction(\n",
              "                'suggestCharts', [key], {});\n",
              "          } catch (error) {\n",
              "            console.error('Error during call to suggestCharts:', error);\n",
              "          }\n",
              "          quickchartButtonEl.classList.remove('colab-df-spinner');\n",
              "          quickchartButtonEl.classList.add('colab-df-quickchart-complete');\n",
              "        }\n",
              "        (() => {\n",
              "          let quickchartButtonEl =\n",
              "            document.querySelector('#df-35c896b1-faff-4d2c-b803-9bd3ff64739c button');\n",
              "          quickchartButtonEl.style.display =\n",
              "            google.colab.kernel.accessAllowed ? 'block' : 'none';\n",
              "        })();\n",
              "      </script>\n",
              "    </div>\n",
              "\n",
              "    </div>\n",
              "  </div>\n"
            ],
            "application/vnd.google.colaboratory.intrinsic+json": {
              "type": "dataframe",
              "summary": "{\n  \"name\": \"plt\",\n  \"rows\": 10,\n  \"fields\": [\n    {\n      \"column\": \"node\",\n      \"properties\": {\n        \"dtype\": \"number\",\n        \"std\": 634,\n        \"min\": 245,\n        \"max\": 1938,\n        \"num_unique_values\": 10,\n        \"samples\": [\n          886,\n          1121,\n          380\n        ],\n        \"semantic_type\": \"\",\n        \"description\": \"\"\n      }\n    },\n    {\n      \"column\": \"prob_hybrid\",\n      \"properties\": {\n        \"dtype\": \"float32\",\n        \"num_unique_values\": 10,\n        \"samples\": [\n          0.721449077129364,\n          0.8234309554100037,\n          0.7476036548614502\n        ],\n        \"semantic_type\": \"\",\n        \"description\": \"\"\n      }\n    },\n    {\n      \"column\": \"prob_sage\",\n      \"properties\": {\n        \"dtype\": \"float32\",\n        \"num_unique_values\": 10,\n        \"samples\": [\n          0.6684288382530212,\n          0.9998723268508911,\n          0.8989443778991699\n        ],\n        \"semantic_type\": \"\",\n        \"description\": \"\"\n      }\n    },\n    {\n      \"column\": \"label\",\n      \"properties\": {\n        \"dtype\": \"number\",\n        \"std\": 0,\n        \"min\": 1,\n        \"max\": 1,\n        \"num_unique_values\": 1,\n        \"samples\": [\n          1\n        ],\n        \"semantic_type\": \"\",\n        \"description\": \"\"\n      }\n    }\n  ]\n}"
            }
          },
          "metadata": {}
        },
        {
          "output_type": "stream",
          "name": "stdout",
          "text": [
            "Subgraph nodes: [ 505  744  993 1047 1108 1328 1624 1663 1745 1812 1834]\n"
          ]
        },
        {
          "output_type": "display_data",
          "data": {
            "text/plain": [
              "<Figure size 600x600 with 1 Axes>"
            ],
            "image/png": "[encoded data removed]"
          },
          "metadata": {}
        }
      ]
    },
    {
      "cell_type": "code",
      "source": [
        "# === CELL 14: Save models & artifacts (optional) ===\n",
        "os.makedirs(\"models\", exist_ok=True)\n",
        "torch.save(hybrid.state_dict(), \"models/hybrid_demo.pt\")\n",
        "torch.save(sage.state_dict(), \"models/sage_demo.pt\")\n",
        "torch.save(ae.state_dict(), \"models/lstm_ae.pt\")\n",
        "print(\"Saved model checkpoints to ./models\")\n"
      ],
      "metadata": {
        "colab": {
          "base_uri": "https://localhost:8080/"
        },
        "id": "WraPvwjyJqMk",
        "outputId": "05f2ca2c-df22-4dcf-f8a0-d4360442656a"
      },
      "execution_count": null,
      "outputs": [
        {
          "output_type": "stream",
          "name": "stdout",
          "text": [
            "Saved model checkpoints to ./models\n"
          ]
        }
      ]
    },
    {
      "cell_type": "code",
      "source": [
        "# === CELL 15: Optional — Streamlit demo hook (commented) ===\n",
        "# Running Streamlit inside Colab is possible but has caveats (ngrok/token etc).\n",
        "# Below is a minimal Streamlit app string you could write to file and run locally or inside Colab with ngrok.\n",
        "# For brevity this is just illustrative; uncomment/run at your own convenience.\n",
        "\n",
        "\"\"\"\n",
        "%%bash --no-run\n",
        "cat > streamlit_demo.py <<'PY'\n",
        "import streamlit as st\n",
        "import pandas as pd\n",
        "import numpy as np\n",
        "import plotly.graph_objects as go\n",
        "\n",
        "st.title(\"Hybrid GNN + Temporal Fraud Demo (summary)\")\n",
        "# load precomputed files saved above if available\n",
        "try:\n",
        "    df_rank = pd.read_csv('df_rank_h.csv')\n",
        "    st.dataframe(df_rank.head(50))\n",
        "except:\n",
        "    st.info(\"Run training cells to produce ranking.\")\n",
        "PY\n",
        "\"\"\"\n",
        "print(\"Streamlit demo hook created (commented). Run locally by moving 'streamlit_demo.py' to your machine and running 'streamlit run streamlit_demo.py'.\")\n"
      ],
      "metadata": {
        "colab": {
          "base_uri": "https://localhost:8080/"
        },
        "id": "pjI0Ss7TJr2i",
        "outputId": "5fee3672-1cd0-45eb-a580-dc27313244b8"
      },
      "execution_count": null,
      "outputs": [
        {
          "output_type": "stream",
          "name": "stdout",
          "text": [
            "Streamlit demo hook created (commented). Run locally by moving 'streamlit_demo.py' to your machine and running 'streamlit run streamlit_demo.py'.\n"
          ]
        }
      ]
    }
  ]
}